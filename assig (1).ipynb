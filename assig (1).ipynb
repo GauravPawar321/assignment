{
 "cells": [
  {
   "cell_type": "code",
   "execution_count": null,
   "id": "1b3232b3-939c-4ceb-81f6-724f7573f063",
   "metadata": {},
   "outputs": [],
   "source": [
    "#Explain with an example each when to use a for loop and a while loop."
   ]
  },
  {
   "cell_type": "code",
   "execution_count": 5,
   "id": "a30113dc-071e-4c8c-bb9c-4d6be1103e1d",
   "metadata": {},
   "outputs": [
    {
     "name": "stdout",
     "output_type": "stream",
     "text": [
      "1\n",
      "2\n",
      "3\n"
     ]
    }
   ],
   "source": [
    "#foor loop\n",
    "\n",
    "n = [1, 2, 3]  # Initialization\n",
    "for i in n:  # Condition and Updation\n",
    "    print(i)"
   ]
  },
  {
   "cell_type": "code",
   "execution_count": 4,
   "id": "50b46c4d-4fa7-4fba-9638-c298f4c69496",
   "metadata": {},
   "outputs": [
    {
     "name": "stdout",
     "output_type": "stream",
     "text": [
      "1\n",
      "2\n",
      "3\n",
      "4\n",
      "5\n"
     ]
    }
   ],
   "source": [
    "# while loop\n",
    "i = 1  # Initialization\n",
    "while i < 6:  # Condition\n",
    "    print(i)\n",
    "    i += 1  # Updation"
   ]
  },
  {
   "cell_type": "code",
   "execution_count": 1,
   "id": "8d428359-4e38-4b49-bd51-d36b856c3f79",
   "metadata": {},
   "outputs": [
    {
     "name": "stdin",
     "output_type": "stream",
     "text": [
      "Enter a unit:  310\n"
     ]
    },
    {
     "name": "stdout",
     "output_type": "stream",
     "text": [
      "2250.0\n"
     ]
    }
   ],
   "source": [
    "#Q3. Create a python program to compute the electricity bill for a household.\n",
    "\n",
    "def calculateBill(units):\n",
    "\n",
    "\t# Condition to find the charges\n",
    "\t# bar in which the units consumed\n",
    "\t# is fall\n",
    "\tif (units <= 100):\n",
    "\t\n",
    "\t\treturn units * 4.5;\n",
    "\t\n",
    "\telif (units <= 200):\n",
    "\t\n",
    "\t\treturn ((100 * 4.5) +\n",
    "\t\t\t\t(units - 100) * 6);\n",
    "\t\n",
    "\telif (units <= 300):\n",
    "\t\n",
    "\t\treturn ((100 * 4.5) +\n",
    "\t\t\t\t(100 * 6) +\n",
    "\t\t\t\t(units - 200) * 10);\n",
    "\t\n",
    "\telif (units > 300):\n",
    "\t\n",
    "\t\treturn ((100 * 4.5) +\n",
    "\t\t\t\t(100 * 6) +\n",
    "\t\t\t\t(100 * 10) +\n",
    "\t\t\t\t(units - 300) * 20);\n",
    "\t\n",
    "\treturn 0;\n",
    "\n",
    "# Driver Code\n",
    "units = num = int(input(\"Enter a unit: \"))  \n",
    "print(calculateBill(units));\n",
    "\n"
   ]
  },
  {
   "cell_type": "code",
   "execution_count": 2,
   "id": "e55a98bd-7dc5-4f28-9bd0-0ff70d08a01a",
   "metadata": {},
   "outputs": [
    {
     "name": "stdout",
     "output_type": "stream",
     "text": [
      "[1, 8, 27, 64]\n"
     ]
    }
   ],
   "source": [
    "\"\"\"Q4. Create a list of numbers from 1 to 100. Use for loop and while loop to calculate the cube of each\n",
    "number and if the cube of that number is divisible by 4 or 5 then append that number in a list and print\n",
    "that list.\"\"\"\n",
    "# Initializing list\n",
    "l = [1, 2, 3, 4]\n",
    "\n",
    "# Cube List using loop\n",
    "res = []\n",
    "for i in l:\n",
    "\tres.append(i*i*i)\n",
    "\n",
    "# printing result\n",
    "print(res)\n"
   ]
  },
  {
   "cell_type": "code",
   "execution_count": 3,
   "id": "9f2fab76-b335-4d21-b538-bc49955d1183",
   "metadata": {},
   "outputs": [
    {
     "name": "stdout",
     "output_type": "stream",
     "text": [
      "No. of vowels : 12\n"
     ]
    }
   ],
   "source": [
    "'''Q5. Write a program to filter count vowels in the below-given string.\n",
    "string = \"I want to become a data scientist'''\n",
    "\n",
    "def vowel_count(str):\n",
    "     \n",
    "    # Initializing count variable to 0\n",
    "    count = 0\n",
    "     \n",
    "    # Creating a set of vowels\n",
    "    vowel = set(\"aeiouAEIOU\")\n",
    "     \n",
    "    # Loop to traverse the alphabet\n",
    "    # in the given string\n",
    "    for alphabet in str:\n",
    "     \n",
    "        # If alphabet is present\n",
    "        # in set vowel\n",
    "        if alphabet in vowel:\n",
    "            count = count + 1\n",
    "     \n",
    "    print(\"No. of vowels :\", count)\n",
    "     \n",
    "# Driver code\n",
    "str = \"I want to become a data scientist\"\n",
    " \n",
    "# Function Call\n",
    "vowel_count(str)"
   ]
  },
  {
   "cell_type": "code",
   "execution_count": null,
   "id": "e5a95b52-dc51-4cac-98df-bb1913bd0fe0",
   "metadata": {},
   "outputs": [],
   "source": []
  }
 ],
 "metadata": {
  "kernelspec": {
   "display_name": "Python 3 (ipykernel)",
   "language": "python",
   "name": "python3"
  },
  "language_info": {
   "codemirror_mode": {
    "name": "ipython",
    "version": 3
   },
   "file_extension": ".py",
   "mimetype": "text/x-python",
   "name": "python",
   "nbconvert_exporter": "python",
   "pygments_lexer": "ipython3",
   "version": "3.10.8"
  }
 },
 "nbformat": 4,
 "nbformat_minor": 5
}
