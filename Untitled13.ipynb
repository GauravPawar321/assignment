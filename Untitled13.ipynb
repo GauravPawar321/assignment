{
 "cells": [
  {
   "cell_type": "code",
   "execution_count": null,
   "id": "47490f28-0c71-4023-a1f7-4549f5436b6a",
   "metadata": {},
   "outputs": [],
   "source": []
  },
  {
   "cell_type": "code",
   "execution_count": null,
   "id": "c17fbec3-c91b-4e91-9a47-fe19a2aaeffe",
   "metadata": {},
   "outputs": [
    {
     "data": {
      "text/plain": [
       "'who developed python programming language\\nGuido van Rossum'"
      ]
     },
     "execution_count": 1,
     "metadata": {},
     "output_type": "execute_result"
    }
   ],
   "source": [
    "\"\"\"q1 who developed python programming language\n",
    "   Guido van Rossum\"\"\"\n"
   ]
  },
  {
   "cell_type": "code",
   "execution_count": 2,
   "id": "39d898d2-957e-40f4-a792-4c97000de8a6",
   "metadata": {},
   "outputs": [
    {
     "data": {
      "text/plain": [
       "'which type of programming does python support\\n Object-oriented programming and structured programming'"
      ]
     },
     "execution_count": 2,
     "metadata": {},
     "output_type": "execute_result"
    }
   ],
   "source": [
    "\"\"\"q2 which type of programming does python support\n",
    " Object-oriented programming and structured programming\"\"\"\n"
   ]
  },
  {
   "cell_type": "code",
   "execution_count": 3,
   "id": "8bac0005-d993-459b-9e4e-23e87f31ff42",
   "metadata": {},
   "outputs": [
    {
     "data": {
      "text/plain": [
       "'is python case sensitive when dealing with identifiers\\nYes, Python is a case-sensitive language, i.e., it treats uppercase and lowercase characters differently'"
      ]
     },
     "execution_count": 3,
     "metadata": {},
     "output_type": "execute_result"
    }
   ],
   "source": [
    "'''is python case sensitive when dealing with identifiers\n",
    "Yes, Python is a case-sensitive language, i.e., it treats uppercase and lowercase characters differently'''\n"
   ]
  },
  {
   "cell_type": "code",
   "execution_count": null,
   "id": "d307222d-5d91-419f-a1d0-bce91816aa64",
   "metadata": {},
   "outputs": [],
   "source": [
    "'''what is correct extension of python file\n",
    "The extensions for Python files are - . py, . pyi, . pyc,'''\n"
   ]
  },
  {
   "cell_type": "code",
   "execution_count": null,
   "id": "b2260e3e-ab4b-4e7a-a216-df2483f4868d",
   "metadata": {},
   "outputs": [],
   "source": [
    "'''is python code compiled or interpreted\n",
    "Python is an interpreted language'''\n"
   ]
  },
  {
   "cell_type": "code",
   "execution_count": null,
   "id": "61167e2b-b247-482c-932f-6300ae4dea18",
   "metadata": {},
   "outputs": [],
   "source": [
    "'''name of few blocks code used to define in python language\n",
    "Braces {}'''"
   ]
  },
  {
   "cell_type": "code",
   "execution_count": null,
   "id": "37054656-3ed2-4d29-a6fb-b2911db68a83",
   "metadata": {},
   "outputs": [],
   "source": [
    "'''state a character is use to give single line comment in python\n",
    "We can write a single-line comment by adding a single # character before any statement or line of code.'''\n"
   ]
  },
  {
   "cell_type": "code",
   "execution_count": null,
   "id": "d35de890-cb3d-4b58-93db-1933be8297de",
   "metadata": {},
   "outputs": [],
   "source": [
    "'''mention function which can help us find the version of paython that we currenntly working on\n",
    "sys. version '''"
   ]
  },
  {
   "cell_type": "code",
   "execution_count": null,
   "id": "39780801-55ae-4aa2-bbf1-e57303bae6d6",
   "metadata": {},
   "outputs": [],
   "source": [
    "'''paython supports the creation of anaonymous function at runtime using constructed called\n",
    "Python supportpaython supports the creation of anaonymous function at runtime using constructed calleds the creation of anonymous functions (i.e. functions that are not bound to a name) at runtime, using a construct called lambda.'''"
   ]
  },
  {
   "cell_type": "code",
   "execution_count": null,
   "id": "4cd94301-6918-4999-a63a-5acadf6edeb1",
   "metadata": {},
   "outputs": [],
   "source": [
    "'''what does pip stand for python\n",
    "pip Install Packages'''\n"
   ]
  },
  {
   "cell_type": "code",
   "execution_count": null,
   "id": "f8cc23b8-c8b6-495f-a676-7dd94ce1fb19",
   "metadata": {},
   "outputs": [],
   "source": [
    "'''mention few built in functions in python\n",
    "print( ) function.\n",
    "type( ) function.\n",
    "input( ) function.\n",
    "abs( ) function.\n",
    "pow( ) function.\n",
    "dir( ) function.\n",
    "sorted( ) function.\n",
    "max( ) function.'''\n"
   ]
  },
  {
   "cell_type": "code",
   "execution_count": null,
   "id": "1cd18621-8bdc-440d-98fa-a7f60b910aed",
   "metadata": {},
   "outputs": [],
   "source": [
    "'''what is maximum possible length of python identifier in python\n",
    "79 characters'''\n"
   ]
  },
  {
   "cell_type": "code",
   "execution_count": null,
   "id": "2c423fa5-b7a3-4476-906f-472a3cb984eb",
   "metadata": {},
   "outputs": [],
   "source": [
    "'''what are the benfits pf using paython\n",
    "Data science.\n",
    "Scientific and mathematical computing.\n",
    "Web development.\n",
    "Finance and trading.\n",
    "System automation and administration.'''\n"
   ]
  },
  {
   "cell_type": "code",
   "execution_count": null,
   "id": "805df9e1-5a5b-457d-9cf2-f428c0d0ed0b",
   "metadata": {},
   "outputs": [],
   "source": [
    "'''how memory managed in python\n",
    " Python uses the dynamic memory allocation which is managed by the Heap data structure'''"
   ]
  },
  {
   "cell_type": "code",
   "execution_count": null,
   "id": "6535734f-31f4-46b3-8391-d889368b9554",
   "metadata": {},
   "outputs": [],
   "source": [
    "'''HOW TO INSTALL PAYTHON OON WINDOWS AND SET PATH VARIBLE\n",
    "Right-clicking This PC and going to Properties.\n",
    "\n",
    "Clicking on the Advanced system settings in the menu on the left.\n",
    "\n",
    "Clicking on the Environment Variables button o​n the bottom right.\n",
    "\n",
    "In the System variables section, selecting the Path variable and clicking on Edit. The next screen will show all the directories that are currently a part of the PATH variable.\n",
    "\n",
    "Clicking on New and entering Python’s install directory.'''\n"
   ]
  },
  {
   "cell_type": "code",
   "execution_count": null,
   "id": "aa3488b1-0be6-4331-9fbb-3001f48af0ea",
   "metadata": {},
   "outputs": [],
   "source": [
    "''' IS IDETATAION REQUIRED IN PAYTHON"
   ]
  }
 ],
 "metadata": {
  "kernelspec": {
   "display_name": "Python 3 (ipykernel)",
   "language": "python",
   "name": "python3"
  },
  "language_info": {
   "codemirror_mode": {
    "name": "ipython",
    "version": 3
   },
   "file_extension": ".py",
   "mimetype": "text/x-python",
   "name": "python",
   "nbconvert_exporter": "python",
   "pygments_lexer": "ipython3",
   "version": "3.10.8"
  }
 },
 "nbformat": 4,
 "nbformat_minor": 5
}
