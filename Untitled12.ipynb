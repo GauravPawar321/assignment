{
 "cells": [
  {
   "cell_type": "code",
   "execution_count": null,
   "id": "45accb67-ac64-4aae-a54c-8535b305afad",
   "metadata": {},
   "outputs": [],
   "source": [
    "\"plain Class and Object with respect to Object-Oriented Programming. Give a suitable example.\"\n",
    "Object − Objects have states and behaviors. Example: A dog has states - color, name, breed as well as behaviors – wagging the tail, barking, eating. An object is an instance of a class. Class − A class can be defined as a template/blueprint that describes the behavior/state that the object of its type support."
   ]
  },
  {
   "cell_type": "code",
   "execution_count": null,
   "id": "04090acd-2744-4cec-9130-407e99f04bab",
   "metadata": {},
   "outputs": [],
   "source": [
    "\"Name the four pillars of OOPs.\"\n",
    "Abstraction.\n",
    "Encapsulation.\n",
    "Inheritance.\n",
    "Polymorphism.\n"
   ]
  },
  {
   "cell_type": "code",
   "execution_count": null,
   "id": "7720141e-c1b3-4303-8de0-b6fad079cfcf",
   "metadata": {},
   "outputs": [],
   "source": [
    "\"Explain why the __init__() function is used. Give a suitable example.\"\n",
    ", __init__ is a special python method that runs whenever a new object is created. These types of functions are used to initialize the attributes of that class, E.g., if the class is Person, then the attributes will be name, age, etc."
   ]
  },
  {
   "cell_type": "code",
   "execution_count": 1,
   "id": "f1ed3090-dd13-44e5-ba9a-e108ae700c22",
   "metadata": {},
   "outputs": [
    {
     "name": "stdout",
     "output_type": "stream",
     "text": [
      "From: London\n",
      "To_city: India\n"
     ]
    }
   ],
   "source": [
    "class Trip:\n",
    "    def __init__(self, to_city, from_city):\n",
    "        self.to_city = to_city\n",
    "        self.from_city = from_city\n",
    " \n",
    "    def holiday(self):\n",
    "     return (\"From: \" + self.from_city + \"\\nTo_city: \" + self.to_city)\n",
    " \n",
    "T = Trip('India', 'London')\n",
    "print(T.holiday())"
   ]
  },
  {
   "cell_type": "code",
   "execution_count": null,
   "id": "1f8a5241-474a-4736-a320-6d0f8d6a44cc",
   "metadata": {},
   "outputs": [],
   "source": [
    "\"Q4. Why self is used in OOPs?\"\n",
    "The self variable is used to represent the instance of the class which is often used in object-oriented programming. It works as a reference to the object. Python uses the self parameter to refer to instance attributes and methods of the class"
   ]
  },
  {
   "cell_type": "code",
   "execution_count": null,
   "id": "ffffaa6b-8447-4937-82e2-0dbe6931e000",
   "metadata": {},
   "outputs": [],
   "source": [
    "\"What is inheritance? Give an example for each type of inheritance.\"\n",
    "Inheritance is a mechanism in which one class acquires the property of another class. For example, a child inherits the traits of his/her parents. With inheritance, we can reuse the fields and methods of the existing class"
   ]
  },
  {
   "cell_type": "code",
   "execution_count": null,
   "id": "bdc49a7b-e943-46f9-9830-ef74e267daf0",
   "metadata": {},
   "outputs": [],
   "source": [
    "\"Single Inheritance:\"\n",
    "\"Multiple Inheritance:\"\n",
    "\"Multilevel Inheritance\"\n",
    "\"Hierarchical Inheritance:\"\n",
    "\"Hybrid Inheritance:\"\n",
    "\n"
   ]
  }
 ],
 "metadata": {
  "kernelspec": {
   "display_name": "Python 3 (ipykernel)",
   "language": "python",
   "name": "python3"
  },
  "language_info": {
   "codemirror_mode": {
    "name": "ipython",
    "version": 3
   },
   "file_extension": ".py",
   "mimetype": "text/x-python",
   "name": "python",
   "nbconvert_exporter": "python",
   "pygments_lexer": "ipython3",
   "version": "3.10.8"
  }
 },
 "nbformat": 4,
 "nbformat_minor": 5
}
